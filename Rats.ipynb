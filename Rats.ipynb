{
  "cells": [
    {
      "cell_type": "markdown",
      "id": "2ff7cc38",
      "metadata": {
        "id": "2ff7cc38"
      },
      "source": [
        "# The sociology of rats\n",
        "\n",
        "In a population of interacting individuals, for instance **_rats_** in a cage, the mood of one individual can influence the others. Moreover, a collective behaviour can emerge if the interactions are sufficiently numerous, for instance if the density of the rats gets sufficiently large.\n",
        "\n",
        "A simple model for studying this phenomenon considers a population of individuals (rats!) which can be either _calm_ or _nervous_.\n",
        "\n",
        "The rats leave in a two-dimensional grid and each rat moves randomly from site to site.\n",
        "\n",
        "At each time step a rat moves to a nearest-neighbour site, chosen randomly.\n",
        "Two rats cannot occupy the same site, hence if no free site is available nearby, the rat does not move.\n",
        "\n",
        "At each step the rat checks the state of the neighbouring rats in the neighbouring site: if they are all calm, the rat becomes calm. If any is nervous, the rat gets nervous as well. Moreover, with a small probability $p$, at each step a rat can become nervous spontaneously.\n",
        "\n",
        "It can be proven that the fraction of nervous rats in the population undergoes a _phase transition_ driven by the density $\\rho$ of rats in the lattice: below a certain _critical value_ $\\rho_c$ the fraction of nervous rats is small (in fact it would be zero on an infinitely large lattice). Raising the density of rats above $\\rho_c$, the fraction of nervous rats increases abruptly."
      ]
    },
    {
      "cell_type": "markdown",
      "id": "cf1d4e2a",
      "metadata": {
        "id": "cf1d4e2a"
      },
      "source": [
        "## Assignment 1\n",
        "\n",
        "Define a _class_ which describes rats living at the nodes of a square $L\\times L$ lattice, on which we will assume **periodic** boundary conditions.\n",
        "\n",
        "Each node or site of the lattice can be in three possible states:\n",
        "* empty;\n",
        "* occupied by a calm rat;\n",
        "* occupied by a nervous rat;\n",
        "\n",
        "you are free to choose how to represent these three states.\n",
        "\n",
        "To be useful, the class will require several methods:\n",
        "* the _constructor_ method will accept the size of the lattice, the density $\\rho$ of rats to be placed randomly on it, the probability $p$ of a rat getting nervous.\n",
        "* the _update_ method will allow generating a new configuration by\n",
        "    * randomly change calm rats into nervous ones with probability $p$;\n",
        "    * move each rat to a neighbouring free site\n",
        "    * check the status of nearest neighbour rats: if all are calm, the rat becomes calm as well. If any is nervous, the rat gets nervous as well.\n",
        "* the _measure_ method will count the number of nervous rats, returning the fraction of nervous rats over the total population.\n",
        "* the _evolve_ method will accept as parameters the number $N_t$ of _thermalisation_ steps, the number $N_m$ of _measurements_ and the number $N_d$ of _drop_ steps. It will evolve the system first by $N_t$ time steps to thermalise it, then it will evolve the system for $N_m\\times N_d$ steps and take one measurement every $N_d$ steps. It will return the fraction $f_n$ of nervous rats averaged over the simulation, its standard deviation $\\sigma_n$, and also the vector of the $N_m$ individual measurements taken.\n",
        "* the _draw_ method will show a plot of the status of the lattice, in which rats are drawn as dots on the lattice, with different colours depending on their status.\n",
        "\n",
        "**Note 1**: this class can be written in various ways, equivalent from the point of view of functionality, but possibly with very different memory footprint and computational efficiency.\n",
        "For instance, one may choose to allocate the whole lattice; or one can allocate only the rats, namely their state and coordinates on the lattice, which can be more efficient when the density of rats is small.\n",
        "\n",
        "The functions of the `numpy` library that we have exploited during the course to parallelize the code, for instance `numpy.where` which allows to choose elements on the basis of a condition, can be of great help here.\n",
        "\n",
        "**Note 2**: beware, two rats cannot be on the same site. It is necessary to take this into account when moving the rats.\n",
        "\n",
        "**Note 3**: if you have doubts about what it means to take measurements, computing averages and standard deviations, please review the lesson [06.03](https://blended.uniurb.it/moodle/mod/folder/view.php?id=458258) about the Ising model.\n",
        "\n",
        "To check the code, try running the _evolve_ method with $p=0.01$, $L=30$, using $N_t=1000, N_m=1000, N_d=10$ to compute the average fractions $f_n$ of nervous rats for different values of $\\rho$. For instance choose $\\rho = 0.01, 0.05, 0.1, 0.15, 0.2, 0.25, 0.3, 0.35, 0.4, 0.45, 0.5$ and see what happens. By plotting the measured averaged $f_n$ as a function of $\\rho$, you should observe small values of $f_n$ for small values of $\\rho$, then a transition to larger values as $\\rho$ increases, and you should be able to _roughly_ locate the critical value $\\rho_c$."
      ]
    },
    {
      "cell_type": "markdown",
      "id": "1d13e16b",
      "metadata": {
        "id": "1d13e16b"
      },
      "source": [
        "## Assignment 2\n",
        "\n",
        "Keep $p=0.01$ but choose now a larger lattice, at least $L=50$ if your computer manages to complete the simulation within reasonable time limits.\n",
        "Otherwise, choose a lattice as large as you find viable.\n",
        "\n",
        "Perform simulations with $N_t=1000, N_m=1000, N_d=10$ at several values of the density $\\rho$ of rats, in order to better visualize the transition occurring at $\\rho_c$, by plotting the fraction $f_n$ of nervous rats (averaged over the simulation) against the density $\\rho$.\n",
        "You are free to choose the number of $\\rho$ values and their spacing, in order to obtain a clearer plot; your goal is to locate more accurately the value of $\\rho_c$.\n",
        "\n",
        "**Note:** since the goal is to locate the value of $\\rho_c$, and considering that larger $\\rho$ values typically require longer simulations (more rats!), it can be convenient to limit the simulation to values close to the $\\rho_c$ value estimated on smaller lattices.\n",
        "\n",
        "Draw also a plot of the standard deviation $\\sigma_n$, as a function of $\\rho$; it should display larger values when being close to $\\rho_c$."
      ]
    },
    {
      "cell_type": "markdown",
      "id": "86274469",
      "metadata": {
        "id": "86274469"
      },
      "source": [
        "# Assignment 3\n",
        "\n",
        "Set the lattice size at $L=50$, the probability $p=0.01$, and choose three values of $\\rho$\n",
        "* one well below $\\rho_c$\n",
        "* one close to $\\rho_c$\n",
        "* one well above $\\rho_c$\n",
        "\n",
        "For each chosen value of $\\rho$ perform a simulation with $N_t=1000, N_m=10000, N_d=1$, obtaining the individual measurements of $f_n$.\n",
        "\n",
        "Compute the _autocorrelation_ of the values of $f_n$, and see if there are differences in its shape between the three cases.\n",
        "\n",
        "**Note** If you have doubts about how to compute an autocorrelation, please review lesson [06.02](https://blended.uniurb.it/moodle/mod/folder/view.php?id=458258) about Distributions."
      ]
    },
    {
      "cell_type": "markdown",
      "id": "e186f673",
      "metadata": {
        "id": "e186f673"
      },
      "source": [
        "## Assignment 4\n",
        "\n",
        "Add an *animation* method to the class which allows to create an animation of the evolution of the lattice.\n",
        "\n",
        "Please exploit the techniques of the `matplotlib` that we have introduced in various lessons, for instance in [04.06](https://blended.uniurb.it/moodle/pluginfile.php/792656/mod_folder/content/0/04_06_Reaction_Diffusion_Solved.ipynb?forcedownload=1)\n",
        "\n",
        "Try producing a few animations corresponding to the parameters used for Assignment 3."
      ]
    },
    {
      "cell_type": "code",
      "source": [
        "from enum import Enum\n",
        "import numpy as np\n",
        "import numpy.random as rnd\n",
        "import matplotlib.pyplot as plt\n",
        "\n",
        "class NodeState(Enum):\n",
        "    EMPTY = 0\n",
        "    CALM_RAT = 1\n",
        "    ANGRY_RAT = 2\n",
        "    MOV_CALM_RAT = 3\n",
        "    MOV_ANGRY_RAT = 4\n",
        "\n",
        "    def __str__(self) -> str:\n",
        "        return str(self.value)\n",
        "\n",
        "class DisplayableNodeState(Enum):\n",
        "    EMPTY = 0\n",
        "    CALM_RAT = 1\n",
        "    ANGRY_RAT = 2\n",
        "\n",
        "    def __str__(self) -> str:\n",
        "        return str(self.value)\n",
        "\n",
        "class Lattice:\n",
        "    def __init__(self, **kwargs):\n",
        "        self.size = int(kwargs.get('size', 100))\n",
        "        self.density = float(kwargs.get('density', 0.1))\n",
        "        self.prob_of_nervous = float(kwargs.get('prob_of_nervous', 0.01))\n",
        "        self.nodes = np.zeros((self.size, self.size), dtype=np.int32)\n",
        "        self.num_of_rats = 0\n",
        "        self.num_of_angry_rats = 0\n",
        "        self.age = 0\n",
        "        self.__create_rats()\n",
        "\n",
        "    def __update_rat(self, x, y):\n",
        "        if self.prob_of_nervous > rnd.random():\n",
        "            self.nodes[x][y] = NodeState.ANGRY_RAT.value\n",
        "            self.num_of_angry_rats += 1\n",
        "\n",
        "    def __move_rat(self, x, y):\n",
        "        direction = rnd.randint(0, 4)\n",
        "        self.nodes[x][y] += 2\n",
        "        state = self.nodes[x][y]\n",
        "        if (direction == 0) and (y + 1 < self.size) and (self.nodes[x][y + 1] == NodeState.EMPTY.value):\n",
        "            self.nodes[x][y + 1] = state\n",
        "            self.nodes[x][y] = NodeState.EMPTY.value\n",
        "        elif (direction == 1) and (y - 1 >= 0) and (self.nodes[x][y - 1] == NodeState.EMPTY.value):\n",
        "            self.nodes[x][y - 1] = state\n",
        "            self.nodes[x][y] = NodeState.EMPTY.value\n",
        "        elif (direction == 2) and (x - 1 >= 0) and (self.nodes[x - 1][y] == NodeState.EMPTY.value):\n",
        "            self.nodes[x - 1][y] = state\n",
        "            self.nodes[x][y] = NodeState.EMPTY.value\n",
        "        elif (direction == 3) and (x + 1 < self.size) and (self.nodes[x + 1][y] == NodeState.EMPTY.value):\n",
        "            self.nodes[x + 1][y] = state\n",
        "            self.nodes[x][y] = NodeState.EMPTY.value\n",
        "\n",
        "    def __influence_rats(self, x, y):\n",
        "        angry_neighbors = 0\n",
        "        chill_neighbors = 0\n",
        "\n",
        "        if (y + 1 < self.size) and ((self.nodes[x][y + 1] == NodeState.CALM_RAT.value) or (self.nodes[x][y + 1] == NodeState.MOV_CALM_RAT.value)):\n",
        "            chill_neighbors += 1\n",
        "        if (y - 1 >= 0) and ((self.nodes[x][y - 1] == NodeState.CALM_RAT.value) or (self.nodes[x][y - 1] == NodeState.MOV_CALM_RAT.value)):\n",
        "            chill_neighbors += 1\n",
        "        if (x - 1 >= 0) and ((self.nodes[x - 1][y] == NodeState.CALM_RAT.value) or (self.nodes[x - 1][y] == NodeState.MOV_CALM_RAT.value)):\n",
        "            chill_neighbors += 1\n",
        "        if (x + 1 < self.size) and ((self.nodes[x + 1][y] == NodeState.CALM_RAT.value) or (self.nodes[x + 1][y] == NodeState.MOV_CALM_RAT.value)):\n",
        "            chill_neighbors += 1\n",
        "        if (y + 1 < self.size) and ((self.nodes[x][y + 1] == NodeState.ANGRY_RAT.value) or (self.nodes[x][y + 1] == NodeState.MOV_ANGRY_RAT.value)):\n",
        "            angry_neighbors += 1\n",
        "        if (y - 1 >= 0) and ((self.nodes[x][y - 1] == NodeState.ANGRY_RAT.value) or (self.nodes[x][y - 1] == NodeState.MOV_ANGRY_RAT.value)):\n",
        "            angry_neighbors += 1\n",
        "        if (x - 1 >= 0) and ((self.nodes[x - 1][y] == NodeState.ANGRY_RAT.value) or (self.nodes[x - 1][y] == NodeState.MOV_ANGRY_RAT.value)):\n",
        "            angry_neighbors += 1\n",
        "        if (x + 1 < self.size) and ((self.nodes[x + 1][y] == NodeState.ANGRY_RAT.value) or (self.nodes[x + 1][y] == NodeState.MOV_ANGRY_RAT.value)):\n",
        "            angry_neighbors += 1\n",
        "\n",
        "        if  self.nodes[x][y] == NodeState.MOV_CALM_RAT.value and angry_neighbors > 0:\n",
        "            self.nodes[x][y] = NodeState.MOV_ANGRY_RAT.value\n",
        "            self.num_of_angry_rats += 1\n",
        "        elif self.nodes[x][y] == NodeState.MOV_ANGRY_RAT.value and chill_neighbors > 0 :\n",
        "            self.nodes[x][y] = NodeState.MOV_CALM_RAT.value\n",
        "            self.num_of_angry_rats -= 1 if self.num_of_angry_rats > 0 else 0\n",
        "\n",
        "    def __reset_rats(self):\n",
        "        self.nodes = np.where(\n",
        "        (self.nodes == NodeState.MOV_CALM_RAT.value), NodeState.CALM_RAT.value,\n",
        "        np.where((self.nodes == NodeState.MOV_ANGRY_RAT.value), NodeState.ANGRY_RAT.value, NodeState.EMPTY.value)\n",
        "    )\n",
        "\n",
        "    def __create_rats(self):\n",
        "        x2 = rnd.rand(self.size, self.size)\n",
        "        self.nodes = np.where(x2 < 1 - self.density, NodeState.EMPTY.value, NodeState.CALM_RAT.value)\n",
        "        self.num_of_rats = np.sum(self.nodes)\n",
        "\n",
        "    def __measure(self):\n",
        "        if self.num_of_rats == 0:\n",
        "            raise ZeroDivisionError\n",
        "        return self.num_of_angry_rats / self.num_of_rats\n",
        "\n",
        "    def evolve(self, therm_steps, measr_steps, drop_steps):\n",
        "        myMeasures = []\n",
        "        myMeasures2 = []\n",
        "        avg = 0.\n",
        "        dev = 0.\n",
        "\n",
        "        for _ in range(therm_steps):\n",
        "            self.update()\n",
        "\n",
        "        for _ in range(measr_steps):\n",
        "            self.update()\n",
        "            if self.age % drop_steps == 0:\n",
        "                tmp = self.__measure()\n",
        "                myMeasures.append(tmp)\n",
        "                myMeasures2.append(tmp * tmp)\n",
        "\n",
        "        avg = sum(myMeasures) / len(myMeasures)\n",
        "        avg2 = sum(myMeasures2) / len(myMeasures2)\n",
        "\n",
        "        return avg, avg2 - avg*avg , myMeasures\n",
        "\n",
        "    def update(self):\n",
        "        for x in range(self.size):\n",
        "            for y in range(self.size):\n",
        "                if NodeState.EMPTY.value < self.nodes[x][y] <= NodeState.ANGRY_RAT.value:\n",
        "                    if self.nodes[x][y] == NodeState.CALM_RAT.value:\n",
        "                        self.__update_rat(x, y)\n",
        "                    self.__move_rat(x, y)\n",
        "                    self.__influence_rats(x, y)\n",
        "        self.__reset_rats()\n",
        "        self.age += 1\n",
        "\n",
        "    def draw(self):\n",
        "        cmap = plt.cm.get_cmap('Set1', len(DisplayableNodeState))\n",
        "        color_matrix = np.array([[col for col in row] for row in self.nodes], dtype=np.int32)\n",
        "        plt.imshow(color_matrix, cmap=cmap)\n",
        "        cbar = plt.colorbar(ticks=[col.value for col in NodeState])\n",
        "        cbar.ax.set_yticklabels([col.name for col in NodeState])\n",
        "        plt.show()\n",
        "        self.plot()"
      ],
      "metadata": {
        "id": "feq-Z34Z90cn"
      },
      "id": "feq-Z34Z90cn",
      "execution_count": 48,
      "outputs": []
    },
    {
      "cell_type": "code",
      "source": [
        "#Assignment 1 data\n",
        "p = 0.01\n",
        "L = 30\n",
        "d = [0.01, 0.05, 0.1, 0.15, 0.2, 0.25, 0.3, 0.35, 0.4, 0.45, 0.5]\n",
        "\n",
        "nRealizations = 1\n",
        "\n",
        "Nt = 1000\n",
        "Nm = 1000\n",
        "Nd = 10\n",
        "\n",
        "avg_Values = []\n",
        "dev_Values = []\n",
        "meas_Values = []\n",
        "\n",
        "for i in range(len(d)):\n",
        "    print(\"i=\",i)\n",
        "    lat = Lattice(size = L, density = d[i], nervousness = p)\n",
        "    avg_Value, dev_Value, meas_Value = lat.evolve(Nt, Nm, Nd)\n",
        "    avg_Values.append(avg_Value)\n",
        "    dev_Values.append(dev_Value)\n",
        "    meas_Values.append(meas_Value)\n",
        "\n"
      ],
      "metadata": {
        "colab": {
          "base_uri": "https://localhost:8080/"
        },
        "id": "BIYI-GIkSmie",
        "outputId": "a854498f-ac0a-49d8-be06-418da5465254"
      },
      "id": "BIYI-GIkSmie",
      "execution_count": 49,
      "outputs": [
        {
          "output_type": "stream",
          "name": "stdout",
          "text": [
            "i= 0\n",
            "i= 1\n",
            "i= 2\n",
            "i= 3\n",
            "i= 4\n",
            "i= 5\n",
            "i= 6\n",
            "i= 7\n",
            "i= 8\n",
            "i= 9\n",
            "i= 10\n"
          ]
        }
      ]
    },
    {
      "cell_type": "code",
      "source": [
        "#Assignment 1 plot\n",
        "plt.figure(\"States\", figsize=(14, 5) )\n",
        "plt.subplot(131)\n",
        "plt.scatter(d, avg_Values)\n",
        "plt.xlabel(r'$Density$',fontsize=16)\n",
        "plt.title(r'$AngryRatPercentage$',fontsize=18)\n",
        "\n",
        "plt.subplot(132)\n",
        "plt.scatter(d, dev_Values)\n",
        "plt.xlabel(r'$Density$',fontsize=16)\n",
        "plt.title(r'$Deviation$',fontsize=18)\n"
      ],
      "metadata": {
        "colab": {
          "base_uri": "https://localhost:8080/",
          "height": 503
        },
        "id": "TvTpiVvPf_zF",
        "outputId": "621380fd-6d73-49b4-d69e-88df226b3d59"
      },
      "id": "TvTpiVvPf_zF",
      "execution_count": 50,
      "outputs": [
        {
          "output_type": "display_data",
          "data": {
            "text/plain": [
              "<Figure size 1400x500 with 2 Axes>"
            ],
            "image/png": "[encoded data removed]"
          },
          "metadata": {}
        }
      ]
    },
    {
      "cell_type": "code",
      "source": [
        "#Assignment 2\n",
        "p = 0.01\n",
        "L = 50\n",
        "\n",
        "Nt = 1000\n",
        "Nm = 1000\n",
        "Nd = 10\n",
        "\n",
        "avg_Values = []\n",
        "dev_Values = []\n",
        "meas_Values = []\n",
        "\n",
        "#Suspected critical density is 0.2!\n",
        "d = [0.1, 0.15, 0.175, 0.19, 0.2, 0.21, 0.225, 0.25, 0.3]\n",
        "\n",
        "for i in range(len(d)):\n",
        "    print(\"i=\",i)\n",
        "    lat = Lattice(size = L, density = d[i], nervousness = p)\n",
        "    avg_Value, dev_Value, meas_Value = lat.evolve(Nt, Nm, Nd)\n",
        "    avg_Values.append(avg_Value)\n",
        "    dev_Values.append(dev_Value)\n",
        "    meas_Values.append(meas_Value)"
      ],
      "metadata": {
        "colab": {
          "base_uri": "https://localhost:8080/"
        },
        "id": "M2lvLRwmiMT6",
        "outputId": "7dbd0919-46d9-4ce1-f770-82949add1c5e"
      },
      "id": "M2lvLRwmiMT6",
      "execution_count": 54,
      "outputs": [
        {
          "output_type": "stream",
          "name": "stdout",
          "text": [
            "i= 0\n",
            "i= 1\n",
            "i= 2\n",
            "i= 3\n",
            "i= 4\n",
            "i= 5\n",
            "i= 6\n",
            "i= 7\n",
            "i= 8\n"
          ]
        }
      ]
    },
    {
      "cell_type": "code",
      "source": [
        "#Assignment 2 plot\n",
        "plt.figure(\"States\", figsize=(14, 5) )\n",
        "plt.subplot(131)\n",
        "plt.scatter(d, avg_Values)\n",
        "plt.xlabel(r'$Density$',fontsize=16)\n",
        "plt.title(r'$AngryRatPercentage$',fontsize=18)\n",
        "\n",
        "plt.subplot(132)\n",
        "plt.scatter(d, dev_Values)\n",
        "plt.xlabel(r'$Density$',fontsize=16)\n",
        "plt.title(r'$Deviation$',fontsize=18)"
      ],
      "metadata": {
        "id": "9H0rgABGk0ae",
        "outputId": "5162c6b9-4ae9-4078-cd8c-9074677c21ac",
        "colab": {
          "base_uri": "https://localhost:8080/",
          "height": 520
        }
      },
      "id": "9H0rgABGk0ae",
      "execution_count": 55,
      "outputs": [
        {
          "output_type": "execute_result",
          "data": {
            "text/plain": [
              "Text(0.5, 1.0, '$Deviation$')"
            ]
          },
          "metadata": {},
          "execution_count": 55
        },
        {
          "output_type": "display_data",
          "data": {
            "text/plain": [
              "<Figure size 1400x500 with 2 Axes>"
            ],
            "image/png": "[encoded data removed]"
          },
          "metadata": {}
        }
      ]
    }
  ],
  "metadata": {
    "kernelspec": {
      "display_name": "Python 3 (ipykernel)",
      "language": "python",
      "name": "python3"
    },
    "language_info": {
      "codemirror_mode": {
        "name": "ipython",
        "version": 3
      },
      "file_extension": ".py",
      "mimetype": "text/x-python",
      "name": "python",
      "nbconvert_exporter": "python",
      "pygments_lexer": "ipython3",
      "version": "3.9.15"
    },
    "colab": {
      "provenance": []
    }
  },
  "nbformat": 4,
  "nbformat_minor": 5
}